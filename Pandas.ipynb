{
  "nbformat": 4,
  "nbformat_minor": 0,
  "metadata": {
    "colab": {
      "provenance": []
    },
    "kernelspec": {
      "name": "python3",
      "display_name": "Python 3"
    },
    "language_info": {
      "name": "python"
    }
  },
  "cells": [
    {
      "cell_type": "code",
      "execution_count": null,
      "metadata": {
        "id": "sXP4o_7dYhfS"
      },
      "outputs": [],
      "source": [
        "pip install pandas"
      ]
    },
    {
      "cell_type": "code",
      "source": [
        "import pandas as pd\n",
        "load_file = pd.read_csv('iris_csv.csv')\n",
        "# print(load_file) \n",
        "# print(load_file.to_string()) {To load all data in string}\n"
      ],
      "metadata": {
        "id": "JaEi1auRZ8hE"
      },
      "execution_count": null,
      "outputs": []
    },
    {
      "cell_type": "code",
      "source": [
        "import pandas as pd\n",
        "\n",
        "mydata = { \n",
        "    \"cars\" : ['BMW','VOLVO','FORD'],\n",
        "    \"passings\" : [3,7,8]\n",
        "}\n",
        "myvar = pd.DataFrame(mydata)\n",
        "print(myvar)"
      ],
      "metadata": {
        "id": "3K4xZNTZcbyi"
      },
      "execution_count": null,
      "outputs": []
    },
    {
      "cell_type": "code",
      "source": [
        "import pandas as pd\n",
        "print(pd.__version__)"
      ],
      "metadata": {
        "colab": {
          "base_uri": "https://localhost:8080/"
        },
        "id": "K3BAsaJ1kKtZ",
        "outputId": "582f7318-27a5-4377-ea84-bae3abfe0a20"
      },
      "execution_count": null,
      "outputs": [
        {
          "output_type": "stream",
          "name": "stdout",
          "text": [
            "1.3.5\n"
          ]
        }
      ]
    },
    {
      "cell_type": "code",
      "source": [
        "import pandas as pd\n",
        "value = [1,2,3]\n",
        "var = pd.DataFrame(value)\n",
        "# print(var)\n",
        "print(var[0][1])"
      ],
      "metadata": {
        "id": "h_5u9RRfkZzZ"
      },
      "execution_count": null,
      "outputs": []
    },
    {
      "cell_type": "code",
      "source": [
        "import pandas as pd\n",
        "value = [1,7,2,7]\n",
        "myvar = pd.Series(value,index=[i for i in range(len(value))])\n",
        "print(myvar)"
      ],
      "metadata": {
        "id": "6tkrdc5SlX5J"
      },
      "execution_count": null,
      "outputs": []
    },
    {
      "cell_type": "code",
      "source": [
        "import pandas as pd\n",
        "calories = {\"day1\": 420, \"day2\": 380, \"day3\": 390}\n",
        "myvar = pd.Series(calories)\n",
        "print(myvar)"
      ],
      "metadata": {
        "id": "FIrynETMlX-4"
      },
      "execution_count": null,
      "outputs": []
    },
    {
      "cell_type": "code",
      "source": [
        "import pandas as pd\n",
        "calories = {\"day1\" : 420, \"day2\" : 380, \"day3\" : 390}\n",
        "myvar = pd.Series(calories,index = [\"day1\",\"day2\"])\n",
        "print(myvar)"
      ],
      "metadata": {
        "id": "xZ6kRLCflYB5"
      },
      "execution_count": null,
      "outputs": []
    },
    {
      "cell_type": "code",
      "source": [
        "import pandas as pd\n",
        "auth_series = pd.Series(['krupesh','dhiraj','hardik'])\n",
        "article_series = pd.Series([210,120,120])\n",
        "frame = {'Author' : auth_series , 'Article' : article_series}\n",
        "result = pd.DataFrame(frame)\n",
        "age = [24,30]\n",
        "result['Age'] = pd.Series(age)\n",
        "print(result)"
      ],
      "metadata": {
        "id": "XOUnIVa5lYEY"
      },
      "execution_count": null,
      "outputs": []
    },
    {
      "cell_type": "code",
      "source": [
        "dict = {\n",
        "    \"Auth_name\" : pd.Series(['krupesh','hardik','dhiraj']),\n",
        "    \"Auth_book_no\" : pd.Series([12,21,12])\n",
        "}\n",
        "result = pd.DataFrame(dict,index=['no1','no2','no3'])\n",
        "print(result)\n",
        "\n",
        "# Note : Here we can see after providing index to the dataframe explicity,it has\n",
        "#  fill all data with NaN values since we have created this dataframe using Series\n",
        "#  and Series has its own default indices(0,1,2) that is why indices of bot dataframe\n",
        "#  and Series do not match"
      ],
      "metadata": {
        "id": "pYCVn0Zzra8f"
      },
      "execution_count": null,
      "outputs": []
    },
    {
      "cell_type": "code",
      "source": [
        "dict = {\n",
        "    \"Auth_name\" : pd.Series(['krupesh','hardik','dhiraj'],index=['no1','no2','no3']),\n",
        "    \"Auth_book_no\" : pd.Series([12,21,12],index=['no1','no2','no3'])\n",
        "}\n",
        "result = pd.DataFrame(dict,index=['no1','no2','no3'])\n",
        "print(result)"
      ],
      "metadata": {
        "id": "RaXSNzlvtT1h"
      },
      "execution_count": null,
      "outputs": []
    },
    {
      "cell_type": "code",
      "source": [
        "dataframe = {\n",
        "    \"Name\" : pd.Series(['krupesh','hardik','vishal']),\n",
        "    \"Age\" : pd.Series([26,12,23])\n",
        "}\n",
        "result = pd.DataFrame(dataframe)\n",
        "print(result)"
      ],
      "metadata": {
        "id": "TPz1L9xcrbW9"
      },
      "execution_count": null,
      "outputs": []
    },
    {
      "cell_type": "code",
      "source": [
        "#  Note :: if the we need row data always use LOC\n",
        "#         index   Name    Age     \n",
        "#  LOC     0      krupesh  24\n",
        "#  LOC.    1.     hardik   12 \n",
        "#  LOC.    2.     vishal.  23"
      ],
      "metadata": {
        "id": "vaP7fs5wrbhF"
      },
      "execution_count": null,
      "outputs": []
    },
    {
      "cell_type": "code",
      "source": [
        "result = pd.read_csv('data.csv')\n",
        "print(pd.options.display.max_rows)\n",
        "\n",
        "#  Note :: check system's maximum rows with the pd.options.display.max_rows statement.\n",
        "#  In my system the number is 60, which means that if the DataFrame contains more than\n",
        "#  60 rows .."
      ],
      "metadata": {
        "id": "XnXo5oxxrbvV"
      },
      "execution_count": null,
      "outputs": []
    },
    {
      "cell_type": "code",
      "source": [
        "#  Json file load\n",
        "import pandas as pd\n",
        "result = pd.read_json('data.json')\n",
        "print(result.head(10+1)) # show all head data\n",
        "print(result.tail(10+1))"
      ],
      "metadata": {
        "id": "4fITqrEorb0-"
      },
      "execution_count": null,
      "outputs": []
    },
    {
      "cell_type": "code",
      "source": [
        "print(result.info())"
      ],
      "metadata": {
        "id": "T8rhDbIH76Y4"
      },
      "execution_count": null,
      "outputs": []
    },
    {
      "cell_type": "code",
      "source": [
        "# cleaning Data\n",
        "import pandas as pd\n",
        "\n",
        "result = pd.read_json('data.json')\n",
        "print(result)\n",
        "new_result = result.dropna()\n",
        "#  Dropna() mehtod returns a new DataFrame, and will not change the original.\n",
        "#  Dropna() deal with empty cells is to remove rows that contain empty cells.\n",
        "print(new_result)"
      ],
      "metadata": {
        "id": "l44LrtG876kF"
      },
      "execution_count": null,
      "outputs": []
    },
    {
      "cell_type": "code",
      "source": [
        "#  If we need to change original dataframe then use inplace=True\n",
        "result = pd.read_json('data.json')\n",
        "new_result = result.dropna(inplace=True)\n",
        "print(result)"
      ],
      "metadata": {
        "id": "yZX92N6476rl"
      },
      "execution_count": null,
      "outputs": []
    },
    {
      "cell_type": "code",
      "source": [
        "result = pd.read_json('data.json')\n",
        "result.fillna(130,inplace=True) # Replace all value which carry null \n",
        "result['Calories'].fillna(130,inplace=True) # Here it replace only Calories column"
      ],
      "metadata": {
        "id": "8vaBpWqKBPTE"
      },
      "execution_count": null,
      "outputs": []
    },
    {
      "cell_type": "code",
      "source": [
        "result = pd.read_json('data.json')\n",
        "value = result['Calories'].mean()\n",
        "value = result['Calories'].median()\n",
        "value = result['Calories'].mode()[0]"
      ],
      "metadata": {
        "colab": {
          "base_uri": "https://localhost:8080/"
        },
        "id": "NdmGnquXHavY",
        "outputId": "98050e71-42dc-46f0-b55e-f0559f015760"
      },
      "execution_count": null,
      "outputs": [
        {
          "output_type": "stream",
          "name": "stdout",
          "text": [
            "300.0\n"
          ]
        }
      ]
    },
    {
      "cell_type": "code",
      "source": [
        "# pd.to_datetime('<variable>'['Date'])"
      ],
      "metadata": {
        "id": "eRIKNDM_IayW"
      },
      "execution_count": null,
      "outputs": []
    },
    {
      "cell_type": "code",
      "source": [
        "# Doubt\n",
        "\n",
        "\n",
        "load_image = pd.read_json('data.json')\n",
        "value = load_image.dropna(subset = ['Calories'],inplace=True)\n",
        "# print(load_image.to_string())\n",
        "value = load_image[load_image['Duration'].notna()]"
      ],
      "metadata": {
        "id": "v0SbH6dJJP-E"
      },
      "execution_count": null,
      "outputs": []
    },
    {
      "cell_type": "code",
      "source": [
        "print(result)\n",
        "# let's replate some value in perticular row\n",
        "result.loc[2,'Duration'] = 78\n",
        "print(result)"
      ],
      "metadata": {
        "id": "4LdNcUHnKp44"
      },
      "execution_count": null,
      "outputs": []
    },
    {
      "cell_type": "code",
      "source": [
        "# if we change all vaue inside data\n",
        "for x in result.index:\n",
        "  if result.loc[x,\"Calories\"] > 120:\n",
        "    result.loc[x,\"Calories\"] = 120\n",
        "print(result)"
      ],
      "metadata": {
        "id": "cNopx8pQL8mR"
      },
      "execution_count": null,
      "outputs": []
    },
    {
      "cell_type": "code",
      "source": [
        "# If wrong row show then second option to remove the row\n",
        "for x in result.index:\n",
        "  if result.loc[x,'Duration'] > 120:\n",
        "    result.drop(x,inplace=True)\n",
        "print(result)"
      ],
      "metadata": {
        "id": "V0_Vo5XfMcgl"
      },
      "execution_count": null,
      "outputs": []
    },
    {
      "cell_type": "code",
      "source": [
        "print(result.duplicated())"
      ],
      "metadata": {
        "id": "DrtKTFnRTXBd"
      },
      "execution_count": null,
      "outputs": []
    },
    {
      "cell_type": "code",
      "source": [
        "result.drop_duplicates(inplace=True) # Detele all duplicate values"
      ],
      "metadata": {
        "id": "uIf6n-ScT7ZT"
      },
      "execution_count": null,
      "outputs": []
    },
    {
      "cell_type": "code",
      "source": [
        "result = pd.read_csv('data.csv')\n",
        "print(result.corr())\n",
        "\n",
        "# The corr() method ignores \"not numeric\" columns. \n",
        "\n",
        "# Perfect Correlation: \n",
        "#.   We can see that \"duration\" and \"duration\" got the number 1.00, which makes\n",
        "#    sense, each column always has a perfect relationship with itself\n",
        "\n",
        "# Good Correclation:\n",
        "#. \"Duration\" and \"Calories\" got 0.922717 correlations, which is a very good\n",
        "\n",
        "# Bad Correlation:\n",
        "#  \"Duration\" and \"Pulse\" got -0.155.. that is very bad correlation."
      ],
      "metadata": {
        "id": "QspPxphoUPdu"
      },
      "execution_count": null,
      "outputs": []
    },
    {
      "cell_type": "code",
      "source": [
        "# [head(),tail(),dropna(),dropna(inplace=True),fillna(value,inplace=True),mean()\n",
        "#.  medium() , mode() , loc, drop, duplicated() ,corr()]"
      ],
      "metadata": {
        "id": "X1cBGOHiUq1C"
      },
      "execution_count": null,
      "outputs": []
    }
  ]
}