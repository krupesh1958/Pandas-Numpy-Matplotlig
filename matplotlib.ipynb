{
  "nbformat": 4,
  "nbformat_minor": 0,
  "metadata": {
    "colab": {
      "provenance": []
    },
    "kernelspec": {
      "name": "python3",
      "display_name": "Python 3"
    },
    "language_info": {
      "name": "python"
    }
  },
  "cells": [
    {
      "cell_type": "code",
      "source": [
        "# PYPLOT\n",
        "\n",
        "# GRID\n",
        " \n",
        "# SUBPLOT()\n",
        "\n",
        "# SCATTER\n",
        "\n",
        "# BARPLOT\n",
        "\n",
        "# HISTOGRAM\n",
        "\n",
        "# PIE\n"
      ],
      "metadata": {
        "id": "pw1fkf-xaf02"
      },
      "execution_count": null,
      "outputs": []
    },
    {
      "cell_type": "code",
      "source": [
        "# Matplotlib    \n",
        "\n",
        " # What is matplotlib?\n",
        "\n",
        "# Matplotlib is a low level graph plotting library in python that serves as a\n",
        "# visualization utility."
      ],
      "metadata": {
        "id": "GsNkdi--tXi4"
      },
      "execution_count": null,
      "outputs": []
    },
    {
      "cell_type": "code",
      "source": [
        "pip install matplotlib"
      ],
      "metadata": {
        "id": "eOteLuOnuzHy"
      },
      "execution_count": 383,
      "outputs": []
    },
    {
      "cell_type": "code",
      "source": [
        "import matplotlib\n",
        "print(matplotlib.__version__)"
      ],
      "metadata": {
        "id": "miqjL6ltu1Rj"
      },
      "execution_count": null,
      "outputs": []
    },
    {
      "cell_type": "code",
      "source": [
        "# Most of the matplotlib utilities lies under the pytplot submodule...\n",
        "\n",
        "import matplotlib.pyplot as plt\n",
        "import numpy as np\n",
        "\n",
        "x_axis = np.array([0,10]) # [x1,x2]  x1,y1 ---> {start point} \n",
        "y_axis = np.array([20,40]) # [y1,y2] x2,y2 ---> {end point}\n",
        "\n",
        "plt.plot(x_axis,y_axis) # plt.plot() function is used to draw points (markers) in a diagram.\n",
        "plt.show() # all time if show graph use show()"
      ],
      "metadata": {
        "id": "tFzDMq5Pu9p_"
      },
      "execution_count": null,
      "outputs": []
    },
    {
      "cell_type": "code",
      "source": [
        "# Plotting without line\n",
        "\n",
        "# To plot only the markers, you can use shortcut string notation paramete 'o', which meand 'rings'\n",
        "\n",
        "x_axis = np.array([1,8])\n",
        "y_axis = np.array([3,10])\n",
        "\n",
        "plt.plot(x_axis,y_axis,'o')\n",
        "plt.show()"
      ],
      "metadata": {
        "id": "GLH9knl5wozm"
      },
      "execution_count": null,
      "outputs": []
    },
    {
      "cell_type": "code",
      "source": [
        "# Multiple points\n",
        "# You can plot as many points as you like, just make sure you have the same number of \n",
        "# points in both axis\n",
        "\n",
        "x_axis = np.array([1,5,3,4])\n",
        "y_axis = np.array([7,8,9,10])\n",
        "\n",
        "plt.plot(x_axis,y_axis)\n",
        "plt.show()"
      ],
      "metadata": {
        "id": "he9le7WLy5Y0"
      },
      "execution_count": null,
      "outputs": []
    },
    {
      "cell_type": "code",
      "source": [
        "# Default x-point\n",
        "\n",
        "x_axis = np.array([3,8,1,10,5,7]) # [x1,y1,x2,y2,x3,y3]\n",
        "\n",
        "plt.plot(x_axis)\n",
        "plt.show()"
      ],
      "metadata": {
        "id": "N7zuwPlKy9x_"
      },
      "execution_count": null,
      "outputs": []
    },
    {
      "cell_type": "code",
      "source": [
        "# Markers\n",
        "\n",
        "x_axis = np.arange(12).reshape(3,4)\n",
        "\n",
        "plt.plot(x_axis,marker='o')\n",
        "plt.plot(x_axis,marker='*')\n",
        "plt.show()"
      ],
      "metadata": {
        "colab": {
          "base_uri": "https://localhost:8080/",
          "height": 265
        },
        "id": "DQXyIqNVzgsR",
        "outputId": "7758d2ca-8b44-49ef-d00e-eec124e321e7"
      },
      "execution_count": 410,
      "outputs": [
        {
          "output_type": "display_data",
          "data": {
            "text/plain": [
              "<Figure size 432x288 with 1 Axes>"
            ],
            "image/png": "[encoded data removed]"
          },
          "metadata": {
            "needs_background": "light"
          }
        }
      ]
    },
    {
      "cell_type": "code",
      "source": [
        "x_axis = np.arange(12).reshape(3,4)\n",
        "\n",
        "plt.plot(x_axis,'o:r') # Format String fmt marker|line|color\n",
        "plt.plot(x_axis,'o-m') # Format String fmt marker|line|color\n",
        "plt.plot(x_axis,'o--b') # Format String fmt marker|line|color\n",
        "plt.plot(x_axis,'o-.g') # Format String fmt marker|line|color\n",
        "plt.show()"
      ],
      "metadata": {
        "id": "GaLZJORXzhKZ"
      },
      "execution_count": null,
      "outputs": []
    },
    {
      "cell_type": "code",
      "source": [
        "# Marker size plt.plot(x_axis,marker='o',ms=20)\n",
        "# Marker color change by plt.plot(x_axis,marker='o',ms=20,mec='r')\n",
        "# Markerfacecolor change by plt.plot(x_axis,marker='o',ms=20,mfc='r')"
      ],
      "metadata": {
        "id": "hNp4gZlpzhQS"
      },
      "execution_count": null,
      "outputs": []
    },
    {
      "cell_type": "code",
      "source": [
        "# Linestyle \n",
        "# Use the keyword argument linestyle, or shorter ls, to change the style of the plotted line\n",
        "\n",
        "x_axis = np.array([3,8,1,10])\n",
        "\n",
        "plt.plot(x_axis,linestyle = 'dashed')\n",
        "plt.show()\n",
        "\n",
        "# Note :: Shorter syntax\n",
        "\n",
        "# The line style can be written in a shorter syntax:\n",
        "#  linestyle can be written as ls:\n",
        "#  dotted can be written as :\n",
        "#  dashed can be written as --\n",
        "\n",
        "\n",
        "# if line color change then use plt.plot(x_axis,color='r')\n"
      ],
      "metadata": {
        "id": "MUiZOBKgzhXb"
      },
      "execution_count": null,
      "outputs": []
    },
    {
      "cell_type": "code",
      "source": [
        "# Create lables for a plot\n",
        "\n",
        "# with pyplot, you can use the x_axis() and y_axis() functions to set a lable for the x_axis & y_axis\n",
        "\n",
        "x_axis = np.arange(12).reshape(3,4)\n",
        "\n",
        "plt.plot(x_axis)\n",
        "\n",
        "font1 = {'family':'serif','color':'blue','size':20}\n",
        "font2 = {'family':'serif','color':'green','size':40}\n",
        "\n",
        "\n",
        "\n",
        "plt.title(\"Sports watch data\" , loc = \"left\")\n",
        "plt.xlabel(\"Average\",fontdict=font1)\n",
        "plt.ylabel(\"High\",fontdict=font2)\n",
        "\n",
        "\n",
        "plt.show()"
      ],
      "metadata": {
        "id": "PqQd5FNLzheC"
      },
      "execution_count": null,
      "outputs": []
    },
    {
      "cell_type": "code",
      "source": [
        "# Add grid lines to a plot \n",
        "# With pyplot, you can use the grid() function to add grid lines to the plot.\n",
        "\n",
        "\n",
        "x_axis = np.arange(18).reshape(9,2)\n",
        "\n",
        "plt.title(\"sports watch data\")\n",
        "plt.xlabel(\"average pulse\")\n",
        "plt.ylabel(\"calorie burnage\")\n",
        "\n",
        "plt.plot(x_axis)\n",
        "\n",
        "plt.grid() # if only specify x_axis grid then axis = 'x' or axis = 'y'\n",
        "\n",
        "plt.show()"
      ],
      "metadata": {
        "id": "kex-3PSpzhkZ"
      },
      "execution_count": null,
      "outputs": []
    },
    {
      "cell_type": "code",
      "source": [
        "# The subplot() function\n",
        "# The subplot() function takes three arguments that describes the layout of the figure.\n",
        "# plt.shubplot(1,2,1) # that mean's 1 row, 2 columns and this plot is the first plot\n",
        "# plt.shubplot(1,2,2) # that mean's 1 row, 2 columns and this plot is the second plot\n",
        "\n",
        "\n",
        "x_axis = np.arange(5)\n",
        "y_axis = np.arange(10,0,-2)\n",
        "\n",
        "# plt.subplot(1,2,1)\n",
        "plt.subplot(2,2,1)\n",
        "plt.plot(x_axis,y_axis)\n",
        "\n",
        "\n",
        "x_axis = np.arange(5)\n",
        "y_axis = np.arange(10,0,-2)\n",
        "\n",
        "# plt.subplot(1,2,2)\n",
        "plt.subplot(2,2,2)\n",
        "plt.plot(x_axis,y_axis)\n",
        "\n",
        "plt.show()\n",
        "\n",
        "\n",
        "# suptitle :: main tilte between n plot's"
      ],
      "metadata": {
        "id": "_gn2UddPzhqs"
      },
      "execution_count": null,
      "outputs": []
    },
    {
      "cell_type": "code",
      "source": [
        "# scatter :: just point show to compare to x,y axis like ex. : how car old and car speed\n",
        "\n",
        "x_axis = np.array([5,7,8,7,2,17,2,9,4,11,12,9,6])\n",
        "y_axis = np.array([99,86,87,88,111,86,103,87,94,78,77,85,86])\n",
        "\n",
        "plt.scatter(x_axis,y_axis)\n",
        "\n",
        "plt.colorbar() # it show with viridis....\n",
        "\n",
        "plt.show()\n",
        "\n",
        "# if we need to change all color with viridis \n",
        "# colors = np.array([0,10,20,30,40,50])\n",
        "# plt.scatter(x_axis,y_axis,c=color,cmap='viridis')\n",
        "\n",
        "# also change all point's idividual ...\n",
        "\n",
        "\n",
        "# Alpha use for transparanty alpha=0.5"
      ],
      "metadata": {
        "id": "wDGw8DHjGHFJ"
      },
      "execution_count": null,
      "outputs": []
    },
    {
      "cell_type": "code",
      "source": [
        "# Bar Plot \n",
        "\n",
        "# with Pyplot, you can use the bar() function to draw bar graphs ::\n",
        "\n",
        "x_axis = np.array(['A','B','C','D'])\n",
        "y_axis = np.arange(4)\n",
        "\n",
        "plt.bar(x_axis,y_axis,color='red',width=0.1) # If we need horizontal bar then use {barh}\n",
        "\n",
        "# For horizontal bars, use height instead of width\n",
        "\n",
        "plt.show()\n"
      ],
      "metadata": {
        "id": "IX95wXCTQrF2"
      },
      "execution_count": null,
      "outputs": []
    },
    {
      "cell_type": "code",
      "source": [
        "# Histogram \n",
        "# A histogram is a graph showing frequency distributions....\n",
        "# It is a graph showing the number of observations within each given interval.\n",
        "\n",
        "import matplotlib.pyplot as plt\n",
        "import numpy as np\n",
        "\n",
        "x_axis = np.random.normal(170,10,100)\n",
        "\n",
        "plt.hist(x_axis)\n",
        "plt.show()"
      ],
      "metadata": {
        "id": "yB62IbajHV2A"
      },
      "execution_count": null,
      "outputs": []
    },
    {
      "cell_type": "code",
      "source": [
        "# Pie charts\n",
        "\n",
        "x_axis = np.random.normal(40,10,4)\n",
        "x_lable = ['Apple','Bananas','Cherris','Dates']\n",
        "\n",
        "# Explode :: Maybe you want one of the wedges to stand out? The explode parameter\n",
        "# allows you to do that....\n",
        "\n",
        "# The explode parameter, if specified, and not None, must be an array with one value for each wedge.\n",
        "\n",
        "plt.pie(x_axis,labels = x_lable,explode=[0.2,0,0,0],shadow=True) # also use startangle with starting point...\n",
        "\n",
        "# plt.pie change color as we need...\n",
        "\n",
        "# plt.legend(title=\"Four Fruits:\")\n",
        "\n",
        "plt.show()\n",
        "\n"
      ],
      "metadata": {
        "id": "7kmBc4aoUUXI"
      },
      "execution_count": null,
      "outputs": []
    },
    {
      "cell_type": "code",
      "source": [],
      "metadata": {
        "id": "ExWeAEAKUUl4"
      },
      "execution_count": null,
      "outputs": []
    }
  ]
}