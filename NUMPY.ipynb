{
 "cells": [
  {
   "cell_type": "markdown",
   "id": "c35bf846",
   "metadata": {},
   "source": [
    "# NUMPY \n",
    "\n",
    "Topics::\n",
    "- > Difference between python array and numpy\n",
    "- > Tolist() Array to list\n",
    "- > Datatype\n",
    "- > Arange()\n",
    "- > Zeros\n",
    "- > Ones\n",
    "- > Empty\n",
    "- > Linspace\n",
    "- > Eye\n",
    "- > Random\n",
    "- > Reshape / Resize\n",
    "- > Concatenate\n",
    "- > Vstack / Hstack\n",
    "- > Insert / append\n",
    "- > Delete\n",
    "- > Matrix\n",
    "  Linear-Algebra\n",
    "- > Invers\n",
    "- > Matrix_power\n",
    "- > Solved Linear Equation\n",
    "- > Determination"
   ]
  },
  {
   "cell_type": "code",
   "execution_count": null,
   "id": "f7d682f5",
   "metadata": {},
   "outputs": [],
   "source": [
    "# What is the different between list and numpy array?\n",
    "# They both accept different datatype strange....:( \n",
    "# so, what the different??\n",
    "# Ans\n",
    "\n",
    "#.  list = [1,2,3,4,5]     ---> [1][2][3][4][5] --> one node get 32byte's storage mean's 32*8 bittes\n",
    "#.  array = array[1,2,3,4,5]   ---> [1][2][3][4][5]  --> one node get 8byte's storage mean's 8*8 bittes\n",
    "\n",
    "# so, array not get more memory as compare to list that mean's less memory less time to run \n",
    "\n",
    "# yes, array get less time to run as compare to list....\n",
    "# that is way array is use for big ML algorithems beacuse array is faster and less memory store...."
   ]
  },
  {
   "cell_type": "code",
   "execution_count": null,
   "id": "5959bc4d",
   "metadata": {},
   "outputs": [
    {
     "name": "stdout",
     "output_type": "stream",
     "text": [
      "[1. 2. 3. 4.]\n"
     ]
    }
   ],
   "source": [
    "# Numpy array divide all argument's same\n",
    "import numpy as np\n",
    "array = np.array([3,6,9,12])\n",
    "print(array/3)\n",
    "# list can't divide like this\n",
    "# list = [3,6,9,12]\n",
    "# list/3"
   ]
  },
  {
   "cell_type": "code",
   "execution_count": null,
   "id": "c0ce3c21",
   "metadata": {},
   "outputs": [],
   "source": [
    "# Array = Collection of element's of same type\n",
    "# In the python there are two type of arrays\n",
    "# 1] import array as arr\n",
    "# 2] import numpy as np\n"
   ]
  },
  {
   "cell_type": "code",
   "execution_count": null,
   "id": "69f07ad9",
   "metadata": {},
   "outputs": [
    {
     "name": "stdout",
     "output_type": "stream",
     "text": [
      "[1, 2, 3]\n"
     ]
    }
   ],
   "source": [
    "import array as a\n",
    "a = a.array('i',[1,2,3])\n",
    "a = [i for i in a]\n",
    "print(a)"
   ]
  },
  {
   "cell_type": "code",
   "execution_count": null,
   "id": "463074a8",
   "metadata": {},
   "outputs": [],
   "source": [
    "# import numpy as np\n",
    "# help(np.array)"
   ]
  },
  {
   "cell_type": "code",
   "execution_count": null,
   "id": "af99eb94",
   "metadata": {},
   "outputs": [
    {
     "name": "stdout",
     "output_type": "stream",
     "text": [
      "['1' '2' '3' 'krupesh']\n"
     ]
    }
   ],
   "source": [
    "import numpy as np\n",
    "n = np.array([1,2,3,'krupesh'])\n",
    "print(n)\n",
    "# Numpy can provide flexible data-field"
   ]
  },
  {
   "cell_type": "code",
   "execution_count": null,
   "id": "8b0e0a41",
   "metadata": {},
   "outputs": [
    {
     "name": "stdout",
     "output_type": "stream",
     "text": [
      "[1, 3, 5, 3, 7, 1, 9, 3]\n"
     ]
    }
   ],
   "source": [
    "# Array to convert list == tolist()\n",
    "import array as arr\n",
    "array_num = arr.array('i', [1, 3, 5, 3, 7, 1, 9, 3])\n",
    "print(array_num.tolist())"
   ]
  },
  {
   "cell_type": "code",
   "execution_count": null,
   "id": "c0ffdf29",
   "metadata": {},
   "outputs": [
    {
     "name": "stdout",
     "output_type": "stream",
     "text": [
      "[1, 2, 3, 4, 5]\n"
     ]
    }
   ],
   "source": [
    "import numpy as np\n",
    "a = np.array([1,2,3,4,5])\n",
    "print(a.tolist())"
   ]
  },
  {
   "cell_type": "code",
   "execution_count": null,
   "id": "b3c8c0f6",
   "metadata": {},
   "outputs": [
    {
     "name": "stdout",
     "output_type": "stream",
     "text": [
      "[1. +0.j 2. +0.j 3. +0.j 4.5+0.j]\n"
     ]
    }
   ],
   "source": [
    "# we change array datatype\n",
    "import numpy as np\n",
    "a = np.array([1,2,3,4.5],complex) # dtype=\"int\"\n",
    "print(a)"
   ]
  },
  {
   "cell_type": "code",
   "execution_count": null,
   "id": "f757e2c5",
   "metadata": {},
   "outputs": [
    {
     "name": "stdout",
     "output_type": "stream",
     "text": [
      "[3 5 7 9]\n"
     ]
    }
   ],
   "source": [
    "# simple way to convert array :: arange\n",
    "# note :: this one is compulsory given single array\n",
    "import numpy as np\n",
    "a = np.arange(10)\n",
    "# print(a)\n",
    "a = np.arange(1,10)\n",
    "# print(a)\n",
    "a = np.arange(3)\n",
    "# print(a)\n",
    "a = np.arange(3,10,2)\n",
    "# print(a)\n",
    "a = np.arange(1,10,dtype=\"int\")\n",
    "# print(a)\n",
    "a = np.arange(1,10,2,dtype=\"float\")\n",
    "# print(a)\n"
   ]
  },
  {
   "cell_type": "code",
   "execution_count": null,
   "id": "22bd421c",
   "metadata": {},
   "outputs": [],
   "source": [
    "# zeros use\n",
    "import numpy as np\n",
    "a = np.zeros(4)\n",
    "# print(a)\n",
    "a = np.zeros(3,dtype=\"int\")\n",
    "# print(a)\n",
    "a = np.zeros((3,10),dtype=\"int\") # a = np.zeros([3,10],dtype=\"int\")\n",
    "# print(a)"
   ]
  },
  {
   "cell_type": "code",
   "execution_count": null,
   "id": "e2ed8829",
   "metadata": {},
   "outputs": [],
   "source": [
    "# ones use\n",
    "import numpy as np\n",
    "a = np.ones([10,100],int)\n",
    "# print(a)\n",
    "a = np.ones([10,100,2],int)\n",
    "# print(a)\n"
   ]
  },
  {
   "cell_type": "code",
   "execution_count": null,
   "id": "d7be3dec",
   "metadata": {},
   "outputs": [
    {
     "name": "stdout",
     "output_type": "stream",
     "text": [
      "Help on built-in function empty in module numpy:\n",
      "\n",
      "empty(...)\n",
      "    empty(shape, dtype=float, order='C', *, like=None)\n",
      "    \n",
      "    Return a new array of given shape and type, without initializing entries.\n",
      "    \n",
      "    Parameters\n",
      "    ----------\n",
      "    shape : int or tuple of int\n",
      "        Shape of the empty array, e.g., ``(2, 3)`` or ``2``.\n",
      "    dtype : data-type, optional\n",
      "        Desired output data-type for the array, e.g, `numpy.int8`. Default is\n",
      "        `numpy.float64`.\n",
      "    order : {'C', 'F'}, optional, default: 'C'\n",
      "        Whether to store multi-dimensional data in row-major\n",
      "        (C-style) or column-major (Fortran-style) order in\n",
      "        memory.\n",
      "    like : array_like\n",
      "        Reference object to allow the creation of arrays which are not\n",
      "        NumPy arrays. If an array-like passed in as ``like`` supports\n",
      "        the ``__array_function__`` protocol, the result will be defined\n",
      "        by it. In this case, it ensures the creation of an array object\n",
      "        compatible with that passed in via this argument.\n",
      "    \n",
      "        .. versionadded:: 1.20.0\n",
      "    \n",
      "    Returns\n",
      "    -------\n",
      "    out : ndarray\n",
      "        Array of uninitialized (arbitrary) data of the given shape, dtype, and\n",
      "        order.  Object arrays will be initialized to None.\n",
      "    \n",
      "    See Also\n",
      "    --------\n",
      "    empty_like : Return an empty array with shape and type of input.\n",
      "    ones : Return a new array setting values to one.\n",
      "    zeros : Return a new array setting values to zero.\n",
      "    full : Return a new array of given shape filled with value.\n",
      "    \n",
      "    \n",
      "    Notes\n",
      "    -----\n",
      "    `empty`, unlike `zeros`, does not set the array values to zero,\n",
      "    and may therefore be marginally faster.  On the other hand, it requires\n",
      "    the user to manually set all the values in the array, and should be\n",
      "    used with caution.\n",
      "    \n",
      "    Examples\n",
      "    --------\n",
      "    >>> np.empty([2, 2])\n",
      "    array([[ -9.74499359e+001,   6.69583040e-309],\n",
      "           [  2.13182611e-314,   3.06959433e-309]])         #uninitialized\n",
      "    \n",
      "    >>> np.empty([2, 2], dtype=int)\n",
      "    array([[-1073741821, -1067949133],\n",
      "           [  496041986,    19249760]])                     #uninitialized\n",
      "\n"
     ]
    }
   ],
   "source": [
    "help(np.empty)"
   ]
  },
  {
   "cell_type": "code",
   "execution_count": null,
   "id": "1a924a15",
   "metadata": {},
   "outputs": [
    {
     "name": "stdout",
     "output_type": "stream",
     "text": [
      "[[    57762928            0 206158430253 193273528375]\n",
      " [223338299441 206158430292 249108103221 227633266739]\n",
      " [214748364858 197568495669 227633266742 386547056695]]\n"
     ]
    }
   ],
   "source": [
    "# empty use\n",
    "import numpy as np\n",
    "a = np.empty([3,4],int)\n",
    "# print(a)"
   ]
  },
  {
   "cell_type": "code",
   "execution_count": null,
   "id": "9af4585c",
   "metadata": {},
   "outputs": [],
   "source": [
    "# linspace ::\n",
    "# arange and linspace is almoste same but main difference is \n",
    "# the linespace use to equal divide the all aliment's in the array\n",
    "\n",
    "import numpy as np\n",
    "a = np.linspace(1,100,num=4,dtype=int,endpoint=False,retstep=True)\n",
    "# print(a)\\\n",
    "a = np.linspace(1,10,20,dtype=int,endpoint=False,retstep=True) \n",
    "# and\n",
    "# a = np.linspace(1,10,num=20,dtype=int,endpoint=False,retstep=True)\n",
    "# print(a)\n",
    "a = np.linspace(1,100,retstep=True)\n",
    "# print(a)\n",
    "# if num can't write then it is automaticaly consider 50 values.\n"
   ]
  },
  {
   "cell_type": "code",
   "execution_count": null,
   "id": "78d94871",
   "metadata": {},
   "outputs": [],
   "source": [
    "# eye ::\n",
    "# this is very intresting function\n",
    "import numpy as np\n",
    "a = np.eye(5,dtype='int')\n",
    "# print(a)\n",
    "a = np.eye(10,dtype=\"int\")\n",
    "# print(a)\n",
    "a = np.eye(5,k=1,dtype=\"int\")\n",
    "# print(a)\n",
    "a = np.eye(5,k=2,dtype=\"int\")\n",
    "# print(a)\n",
    "a = np.eye(5,k=-1,dtype=\"int\")\n",
    "# print(a)\n",
    "a = np.eye(5,k=-2,dtype=\"int\")\n",
    "# print(a)\n",
    "a = np.eye(2,3,k=1)\n",
    "# print(a)\n",
    "\n",
    "\n",
    "# identy::\n",
    "# identy and eye both work is same\n",
    "import numpy as np\n",
    "a = np.identity(2)\n",
    "# print(a)\n",
    "# help(np.identity)\n",
    "# identity is automaticaly consider matrix "
   ]
  },
  {
   "cell_type": "code",
   "execution_count": null,
   "id": "ac710d0e",
   "metadata": {},
   "outputs": [],
   "source": [
    "# random.rand\n",
    "import numpy as np\n",
    "a = np.random.rand(3,2)\n",
    "# print(a)\n",
    "a = np.random.rand(3,5,2)\n",
    "# print(a)\n",
    "a = np.random.randint(3,size=10)\n",
    "# print(a)\n",
    "a = np.random.seed(0)\n",
    "# print(a)\n",
    "a = np.random.permutation(10) # output given by 0 to 10 random choice number and give only 10 number's\n",
    "# print(a)"
   ]
  },
  {
   "cell_type": "code",
   "execution_count": 137,
   "id": "54c75881",
   "metadata": {},
   "outputs": [
    {
     "data": {
      "text/plain": [
       "4"
      ]
     },
     "execution_count": 137,
     "metadata": {},
     "output_type": "execute_result"
    }
   ],
   "source": [
    "\n",
    "# indexing\n",
    "a = np.arange(0,12).reshape(2,2,3)\n",
    "# print(a)\n",
    "a[-2,-1,-2]"
   ]
  },
  {
   "cell_type": "code",
   "execution_count": 199,
   "id": "b3b81f10",
   "metadata": {},
   "outputs": [],
   "source": [
    "# slicing\n",
    "import numpy as np\n",
    "a = np.arange(10)\n",
    "# print(a)\n",
    "b = [a[1:4],a[-4:-2]]\n",
    "# print(np.concatenate(b))\n",
    "a = np.arange(12).reshape(2,2,3)\n",
    "# print(a)\n",
    "b = [a[0,0,1],a[0,1,1],a[-1,-2,-2],a[-1,-1,-2]]\n",
    "# print(b)\n",
    "a = np.arange(1,10)\n",
    "# print(a)\n",
    "index = np.array([1,4,5])\n",
    "a[index]\n",
    "a[[1,4,5]]\n",
    "a = np.arange(1,10).reshape(3,3)\n",
    "# print(a)\n",
    "b = [a[0,:2],a[1,1:],a[2,:2]]\n",
    "# print(np.concatenate(b))\n",
    "a = np.arange(1,10).reshape(3,3)\n",
    "# print(a)\n",
    "# print(a[[0,1,2],[0,1,2]])"
   ]
  },
  {
   "cell_type": "code",
   "execution_count": 221,
   "id": "56252f38",
   "metadata": {},
   "outputs": [
    {
     "name": "stdout",
     "output_type": "stream",
     "text": [
      "[[  8   5  64]\n",
      " [  5  16 256]]\n",
      "[[5 6 8]\n",
      " [6 6 8]]\n"
     ]
    }
   ],
   "source": [
    "# Arithmetic opration\n",
    "import numpy as np\n",
    "a = np.arange(1,10).reshape(3,3)\n",
    "# print(a)\n",
    "# print(a[a>5]+50)\\\n",
    "# print(a+2*2)\n",
    "# print(a**a)\n",
    "# we are directly add two array with help of arithmetic oprator\n",
    "a = np.random.randint(1,7,size=(2,3))\n",
    "b = np.random.randint(1,7,size=(2,3))\n",
    "# print(a**b)\n",
    "# print(a+b)\n"
   ]
  },
  {
   "cell_type": "code",
   "execution_count": 242,
   "id": "c94db0cc",
   "metadata": {},
   "outputs": [],
   "source": [
    "# reshape process\n",
    "import numpy as np\n",
    "a = np.arange(1,10).reshape(3,3)\n",
    "# print(a)\n",
    "a = np.array([1,2,3,4,5,\"krupesh\"])\n",
    "a = np.resize(a,(8,8))\n",
    "# print(a)\n"
   ]
  },
  {
   "cell_type": "code",
   "execution_count": 246,
   "id": "5d63ba75",
   "metadata": {},
   "outputs": [
    {
     "name": "stdout",
     "output_type": "stream",
     "text": [
      "[1 2 3 4 5 6 7 8 9]\n"
     ]
    }
   ],
   "source": [
    "# Flatten function & reavel function\n",
    "import numpy as np\n",
    "a = np.arange(1,10).reshape(3,3)\n",
    "# print(a.flatten())\n",
    "print(a.ravel())"
   ]
  },
  {
   "cell_type": "code",
   "execution_count": 254,
   "id": "e7b8f0f5",
   "metadata": {},
   "outputs": [],
   "source": [
    "# Transfert fuction::\n",
    "# Transfert function change shape of array like (5,2)--->(2,5)\n",
    "import numpy as np\n",
    "a = np.arange(1,11).reshape(5,2)\n",
    "# print(a)\n",
    "# np.transpose(a)\n",
    "a = np.arange(1,25).reshape(2,3,4)\n",
    "# print(a)\n",
    "# np.transpose(a) # (2,3,4)----->(4,3,2)\n",
    "# np.transpose(a,(1,0,2)) # (2,3,4)----->(3,2,4)\n",
    "# a.transpose((1,0,2))\n",
    "# a.T\n"
   ]
  },
  {
   "cell_type": "code",
   "execution_count": 260,
   "id": "4d01a082",
   "metadata": {},
   "outputs": [
    {
     "name": "stdout",
     "output_type": "stream",
     "text": [
      "[1 2 3 4 0 1 2 3 4 5]\n"
     ]
    }
   ],
   "source": [
    "# copy array\n",
    "import numpy as np\n",
    "a = np.arange(1,5)\n",
    "b = np.arange(10)\n",
    "c = np.arange(6)\n",
    "np.concatenate((a,c),out=b)\n",
    "print(b)"
   ]
  },
  {
   "cell_type": "code",
   "execution_count": 397,
   "id": "d4e6bfc5",
   "metadata": {},
   "outputs": [
    {
     "data": {
      "text/plain": [
       "array([[1, 2, 5],\n",
       "       [3, 4, 6]])"
      ]
     },
     "execution_count": 397,
     "metadata": {},
     "output_type": "execute_result"
    }
   ],
   "source": [
    "## Axis MIMP\n",
    "import numpy as np\n",
    "a = np.array([[1,2],[3,4]])\n",
    "b = np.array([[5,6]])\n",
    "np.concatenate((a,b),axis=0)\n",
    "np.concatenate((a,b.T),axis=1)\n",
    "np.vstack((a,b)) # atuomaticaly consider 0 axis\n",
    "np.hstack((a,b.T)) # automaticaly consider 1 axis"
   ]
  },
  {
   "cell_type": "code",
   "execution_count": 282,
   "id": "34e733e0",
   "metadata": {},
   "outputs": [],
   "source": [
    "# split method\n",
    "import numpy as np\n",
    "a = np.arange(10)\n",
    "# np.split(a,3)\n",
    "# np.split(a,2)\n"
   ]
  },
  {
   "cell_type": "code",
   "execution_count": 401,
   "id": "2470c8ff",
   "metadata": {},
   "outputs": [
    {
     "name": "stdout",
     "output_type": "stream",
     "text": [
      "[[[3 1 5]\n",
      "  [5 2 5]\n",
      "  [7 6 6]]\n",
      "\n",
      " [[1 3 5]\n",
      "  [9 8 2]\n",
      "  [5 6 9]]\n",
      "\n",
      " [[3 7 7]\n",
      "  [8 2 7]\n",
      "  [9 2 1]]]\n"
     ]
    },
    {
     "data": {
      "text/plain": [
       "array([[[3, 5],\n",
       "        [5, 5],\n",
       "        [7, 6]],\n",
       "\n",
       "       [[1, 5],\n",
       "        [9, 2],\n",
       "        [5, 9]],\n",
       "\n",
       "       [[3, 7],\n",
       "        [8, 7],\n",
       "        [9, 1]]])"
      ]
     },
     "execution_count": 401,
     "metadata": {},
     "output_type": "execute_result"
    }
   ],
   "source": [
    "## Add query\n",
    "import numpy as np\n",
    "a = np.arange(1,11)\n",
    "np.insert(a,1,5)\n",
    "np.insert(a,1,50.2) #It's automaticaly convert into int\n",
    "np.insert(a,(1,3),5) # This is set 5 into two space\n",
    "#########################\n",
    "a = np.array([[1,2],[3,4]])\n",
    "np.insert(a,1,23) # This function first convert 1-D array then add\n",
    "np.insert(np.split(a,1),0,23,axis=0)\n",
    "np.insert(np.split(a,2),1,23,axis=0)\n",
    "np.insert(a,1,[1,2],axis=0)\n",
    "################################\n",
    "# append alway's add last side value\n",
    "a = np.arange(10)\n",
    "b = np.arange(10)\n",
    "np.append(b,a)\n",
    "np.append(a,[[4,5]])\n",
    "#################################\n",
    "# In the numpy array can append do extend work also.....\n",
    "###########################################\n",
    "# Delete::\n",
    "a = np.array([[1,2],[3,4]])\n",
    "np.delete(a,2) # first convert 1-D array the delete\n",
    "np.delete(a,1,-2) # This is delete only single value\n",
    "np.delete(a,1,axis=0) # It's consider as a row wise so, 1 row deleted\n",
    "np.delete(a,1,axis=1) # It's consider as column wise so, 1 column value deleted\n",
    "a = np.random.randint(1,10,size=(3,3,3))\n",
    "print(a)\n",
    "np.delete(a,1,0) # 0 is the axis consider\n",
    "np.delete(a,2,axis=0)\n",
    "np.delete(a,2,1)\n",
    "np.delete(a,1,2)\n"
   ]
  },
  {
   "cell_type": "code",
   "execution_count": 400,
   "id": "d77d20f0",
   "metadata": {},
   "outputs": [],
   "source": [
    "# Axis :::::::::\n",
    "# What is Axis??\n",
    "# Axis is consider into imagination\n",
    "# 0 mean's hole array outside part\n",
    "# 1 mean's hole array 1 step inside part\n",
    "# 2 mean's hole array inside column's countable\n",
    "# -1 mean's hole array count inside to outside path follow(It's consider as 2 column's)\n",
    "# -2 mean's second part into -1 (It's consider as 1 row wise)\n",
    "# -3 mean's hole array outside part of array\n"
   ]
  },
  {
   "cell_type": "code",
   "execution_count": 403,
   "id": "4972333b",
   "metadata": {},
   "outputs": [
    {
     "data": {
      "text/plain": [
       "array([[ 70, 100],\n",
       "       [150, 220]])"
      ]
     },
     "execution_count": 403,
     "metadata": {},
     "output_type": "execute_result"
    }
   ],
   "source": [
    "# Matrix Multiplication\n",
    "import numpy as np\n",
    "a = np.array([[10,20],[30,40]])\n",
    "b = np.array([[1,2],[3,4]])\n",
    "a*b # This is simple multiplication\n",
    "######################\n",
    "# Real type of multiplication\n",
    "a = np.array([[10,20],[30,40]])\n",
    "b = np.array([[1,2],[3,4]])\n",
    "a.dot(b)"
   ]
  },
  {
   "cell_type": "code",
   "execution_count": 407,
   "id": "f3c7a0d6",
   "metadata": {},
   "outputs": [
    {
     "name": "stdout",
     "output_type": "stream",
     "text": [
      "[[1 2]\n",
      " [3 4]\n",
      " [5 6]]\n"
     ]
    }
   ],
   "source": [
    "# Matrix write different style\n",
    "import numpy as np\n",
    "a = np.matrix(\"1 2;3 4;5 6\")\n",
    "print(a)"
   ]
  },
  {
   "cell_type": "code",
   "execution_count": 416,
   "id": "7070aa96",
   "metadata": {},
   "outputs": [
    {
     "data": {
      "text/plain": [
       "True"
      ]
     },
     "execution_count": 416,
     "metadata": {},
     "output_type": "execute_result"
    }
   ],
   "source": [
    "## Real method of linear-algebra\n",
    "import numpy as np\n",
    "a = np.array([[1,2],[3,4]])\n",
    "b = np.linalg.inv(a)\n",
    "b  # A = 1/A\n",
    "# Equation = 1/(ad-bc)*[[d -b],\n",
    "#                       [-c a]]\n",
    "# How to check the array is Revers or not\n",
    "np.allclose(np.dot(a,b),np.eye(2))"
   ]
  },
  {
   "cell_type": "code",
   "execution_count": 440,
   "id": "bcdfcd18",
   "metadata": {},
   "outputs": [],
   "source": [
    "# Matrix_power\n",
    "import numpy as np\n",
    "a = np.arange(1,10).reshape(3,3)\n",
    "# np.linalg.matrix_power(a,2) # a*2\n",
    "# np.dot(a,a)  # a*a\n",
    "# np.linalg.matrix_power(a,0) # it's automaticaly consider to eye mathod\n",
    "# np.linalg.matrix_power(a,4)"
   ]
  },
  {
   "cell_type": "code",
   "execution_count": 445,
   "id": "3d3a84dc",
   "metadata": {},
   "outputs": [
    {
     "data": {
      "text/plain": [
       "array([2., 3., 1.])"
      ]
     },
     "execution_count": 445,
     "metadata": {},
     "output_type": "execute_result"
    }
   ],
   "source": [
    "# Solved linear equation\n",
    "# 3x + y = 9\n",
    "# x + 2y = 8\n",
    "import numpy as np\n",
    "a = np.array([[3,1],[1,2]])\n",
    "b = np.array([9,8])\n",
    "np.linalg.solve(a,b)\n",
    "x = np.array([[6,2,-5],[3,3,-2],[7,5,-3]])\n",
    "y = np.array([13,13,26])\n",
    "np.linalg.solve(x,y)"
   ]
  },
  {
   "cell_type": "code",
   "execution_count": 451,
   "id": "db12ab59",
   "metadata": {},
   "outputs": [
    {
     "data": {
      "text/plain": [
       "0.0"
      ]
     },
     "execution_count": 451,
     "metadata": {},
     "output_type": "execute_result"
    }
   ],
   "source": [
    "# Determinate\n",
    "import numpy as np\n",
    "a = np.array([[1,2],[3,4]])\n",
    "# print(a)\n",
    "np.linalg.det(a) # ANS = 1*4 - 2*3\n",
    "round(np.linalg.det(a)) # Roundfigure show\n",
    "b = np.arange(0,9).reshape(3,3)\n",
    "# print(b)\n",
    "np.linalg.det(b)"
   ]
  },
  {
   "cell_type": "code",
   "execution_count": null,
   "id": "cb2696bf",
   "metadata": {},
   "outputs": [],
   "source": []
  }
 ],
 "metadata": {
  "kernelspec": {
   "display_name": "Python 3 (ipykernel)",
   "language": "python",
   "name": "python3"
  },
  "language_info": {
   "codemirror_mode": {
    "name": "ipython",
    "version": 3
   },
   "file_extension": ".py",
   "mimetype": "text/x-python",
   "name": "python",
   "nbconvert_exporter": "python",
   "pygments_lexer": "ipython3",
   "version": "3.8.10"
  }
 },
 "nbformat": 4,
 "nbformat_minor": 5
}
